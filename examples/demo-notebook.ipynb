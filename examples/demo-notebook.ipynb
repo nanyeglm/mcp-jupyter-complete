{
  "cells": [
    {
      "cell_type": "markdown",
      "metadata": {},
      "source": [
        "# MCP Jupyter Complete Demo\n",
        "\n",
        "This notebook demonstrates the capabilities of the MCP Jupyter Complete server."
      ]
    },
    {
      "cell_type": "code",
      "execution_count": null,
      "metadata": {},
      "outputs": [],
      "source": [
        "# This is a code cell that can be manipulated\n",
        "import pandas as pd\n",
        "import numpy as np\n",
        "\n",
        "print(\"Hello from MCP Jupyter Complete!\")"
      ]
    },
    {
      "cell_type": "markdown",
      "metadata": {},
      "source": [
        "## Features Demonstrated\n",
        "\n",
        "- Position-based cell operations\n",
        "- Cell type conversion\n",
        "- Bulk editing capabilities"
      ]
    },
    {
      "cell_type": "code",
      "execution_count": null,
      "metadata": {},
      "outputs": [],
      "source": [
        "# Create sample data\n",
        "data = {\n",
        "    'x': np.random.randn(100),\n",
        "    'y': np.random.randn(100)\n",
        "}\n",
        "df = pd.DataFrame(data)\n",
        "print(f\"Created DataFrame with shape: {df.shape}\")"
      ]
    },
    {
      "cell_type": "raw",
      "metadata": {},
      "source": [
        "This is a raw cell that contains unformatted text.\n",
        "It can be converted to other cell types using the MCP server."
      ]
    }
  ],
  "metadata": {
    "kernelspec": {
      "display_name": "Python 3",
      "language": "python",
      "name": "python3"
    },
    "language_info": {
      "codemirror_mode": {
        "name": "ipython",
        "version": 3
      },
      "file_extension": ".py",
      "mimetype": "text/x-python",
      "name": "python",
      "nbconvert_exporter": "python",
      "pygments_lexer": "ipython3",
      "version": "3.8.5"
    }
  },
  "nbformat": 4,
  "nbformat_minor": 4
}