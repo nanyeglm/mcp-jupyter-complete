{
  "cells": [
    {
      "cell_type": "markdown",
      "metadata": {},
      "source": [
        "# MCP Jupyter Complete 演示 - 已更新\n",
        "\n",
        "这个 notebook 展示了 MCP Jupyter Complete 服务器的功能。\n",
        "\n",
        "**通过批量操作更新！**"
      ]
    },
    {
      "cell_type": "code",
      "metadata": {},
      "source": [
        "This is a raw cell that contains unformatted text.\n",
        "It can be converted to other cell types using the MCP server."
      ],
      "execution_count": null,
      "outputs": []
    },
    {
      "cell_type": "code",
      "execution_count": null,
      "metadata": {},
      "outputs": [],
      "source": [
        "# 这是一个被修改的代码单元格\n",
        "import pandas as pd\n",
        "import numpy as np\n",
        "import matplotlib.pyplot as plt\n",
        "\n",
        "print(\"Hello from MCP Jupyter Complete - 已修改!\")\n",
        "print(\"测试中文字符支持\")"
      ]
    },
    {
      "cell_type": "markdown",
      "metadata": {},
      "source": [
        "## Features Demonstrated\n",
        "\n",
        "- Position-based cell operations\n",
        "- Cell type conversion\n",
        "- Bulk editing capabilities"
      ]
    },
    {
      "cell_type": "code",
      "execution_count": null,
      "metadata": {},
      "outputs": [],
      "source": [
        "# Create sample data\n",
        "data = {\n",
        "    'x': np.random.randn(100),\n",
        "    'y': np.random.randn(100)\n",
        "}\n",
        "df = pd.DataFrame(data)\n",
        "print(f\"Created DataFrame with shape: {df.shape}\")"
      ]
    },
    {
      "cell_type": "code",
      "metadata": {},
      "source": [
        "# 新添加的测试单元格\n",
        "import datetime\n",
        "\n",
        "print(f\"当前时间: {datetime.datetime.now()}\")\n",
        "print(\"这是通过 add_cell 功能添加的单元格\")"
      ],
      "execution_count": null,
      "outputs": []
    }
  ],
  "metadata": {
    "kernelspec": {
      "display_name": "Python 3",
      "language": "python",
      "name": "python3"
    },
    "language_info": {
      "codemirror_mode": {
        "name": "ipython",
        "version": 3
      },
      "file_extension": ".py",
      "mimetype": "text/x-python",
      "name": "python",
      "nbconvert_exporter": "python",
      "pygments_lexer": "ipython3",
      "version": "3.8.5"
    }
  },
  "nbformat": 4,
  "nbformat_minor": 4
}