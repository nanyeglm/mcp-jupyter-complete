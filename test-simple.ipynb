{
  "cells": [
    {
      "cell_type": "markdown",
      "metadata": {},
      "source": [
        "# MCP 测试 Notebook\n",
        "这是用于测试 MCP Jupyter Complete 工具的简单 notebook。"
      ]
    },
    {
      "cell_type": "code",
      "execution_count": 2,
      "metadata": {},
      "outputs": [
        {
          "output_type": "stream",
          "name": "stdout",
          "text": "Hello from MCP! Python version: 3.10.18 | packaged by conda-forge | (main, Jun  4 2025, 14:45:41) [GCC 13.3.0]\n✅ MCP 工具测试成功！\n"
        }
      ],
      "source": [
        "# 这是修改后的代码\n",
        "import sys\n",
        "print(f\"Hello from MCP! Python version: {sys.version}\")\n",
        "print(\"✅ MCP 工具测试成功！\")"
      ]
    },
    {
      "cell_type": "code",
      "metadata": {},
      "source": [
        "# 这是通过 MCP 添加的新单元格\n",
        "import datetime\n",
        "print(f\"添加时间: {datetime.datetime.now()}\")"
      ],
      "execution_count": null,
      "outputs": []
    }
  ],
  "metadata": {
    "kernelspec": {
      "display_name": "MCP Jupyter Complete",
      "language": "python",
      "name": "mcp-jupyter-complete"
    },
    "language_info": {
      "name": "python",
      "version": "3.10.0"
    }
  },
  "nbformat": 4,
  "nbformat_minor": 4
}